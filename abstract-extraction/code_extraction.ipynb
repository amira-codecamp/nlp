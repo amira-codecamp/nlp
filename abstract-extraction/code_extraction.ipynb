{
  "cells": [
    {
      "cell_type": "markdown",
      "metadata": {
        "id": "vpxjXbTCMYtw"
      },
      "source": [
        "**Install Python Packages**"
      ]
    },
    {
      "cell_type": "code",
      "execution_count": null,
      "metadata": {
        "id": "g8liStZlEV97"
      },
      "outputs": [],
      "source": [
        "!pip install pypdfium2\n",
        "import pypdfium2 as pdfium\n",
        "import re\n",
        "import pandas"
      ]
    },
    {
      "cell_type": "markdown",
      "metadata": {
        "id": "GVSFgK_WZSkO"
      },
      "source": [
        "**Function**"
      ]
    },
    {
      "cell_type": "code",
      "execution_count": null,
      "metadata": {
        "id": "UDqyEuDpmEJ8"
      },
      "outputs": [],
      "source": [
        "def extract_ar(f_path):\n",
        "\n",
        "    parts = []\n",
        "    pdf = pdfium.PdfDocument(f_path) # open document\n",
        "    for item in pdf.get_toc(): # get content table\n",
        "        name = item.title.lower()\n",
        "        if item.page_index is None:\n",
        "            target = \"?\"\n",
        "        else:\n",
        "            target = item.page_index\n",
        "        parts.append([name, target])\n",
        "    \n",
        "    begin = \"?\"\n",
        "    end = \"?\"\n",
        "    for p in parts: # search page\n",
        "        if p[0] == 'ملخص' or p[0] == 'الملخص' :\n",
        "            txt_f = p[0]\n",
        "            txt_l = parts[parts.index(p) + 1] [0]\n",
        "            begin = p[1]\n",
        "            end = parts[parts.index(p) + 1] [1]\n",
        "\n",
        "    text = ''\n",
        "    if begin == \"?\" or end == \"?\":\n",
        "        abstract = ''\n",
        "    else:\n",
        "        if begin != end : # read text\n",
        "            for i in range(begin, end): \n",
        "                text = text + pdf[i].get_textpage().get_text_range() \n",
        "        else:\n",
        "            text = pdf[begin].get_textpage().get_text_range() \n",
        "\n",
        "        if re.search(txt_f, text, re.IGNORECASE) and re.search(txt_l, text, re.IGNORECASE): # search abstract\n",
        "            position_f = re.search(txt_f, text, re.IGNORECASE).end()\n",
        "            position_l = re.search(txt_l, text, re.IGNORECASE).start()\n",
        "            abstract = text[position_f : position_l]\n",
        "        else:\n",
        "            abstract = ''\n",
        "\n",
        "    return(abstract)"
      ]
    }
  ],
  "metadata": {
    "colab": {
      "provenance": []
    },
    "kernelspec": {
      "display_name": "Python 3",
      "name": "python3"
    },
    "language_info": {
      "name": "python"
    }
  },
  "nbformat": 4,
  "nbformat_minor": 0
}
